{
 "cells": [
  {
   "cell_type": "markdown",
   "id": "17557b25-bc13-4408-ba1e-2ecec35c0985",
   "metadata": {},
   "source": [
    "Data Science Tools and Ecosystem"
   ]
  },
  {
   "cell_type": "markdown",
   "id": "d72d1c6b-3745-43b7-91e4-ed3369f7c9ed",
   "metadata": {},
   "source": [
    "In this notebook, Data Science Tools and Ecosystem are summarized."
   ]
  },
  {
   "cell_type": "markdown",
   "id": "8232aff6-1299-46ad-92c2-88040a3b99e0",
   "metadata": {},
   "source": [
    "Some of the popular languages that Data Scientists use are:\n",
    "1. Python\n",
    "2. C++\n",
    "3. SQL"
   ]
  },
  {
   "cell_type": "markdown",
   "id": "44aa1af2-7945-4f32-bd2e-757bc7fb0dc0",
   "metadata": {},
   "source": [
    "Objectives:\n",
    "- Create a Jupyter Notebook with markdown and code cells\n",
    "- List examples of languages, libraries and tools used in Data Science\n",
    "- Share your Jupyter Notebook publicly on GitHub\n",
    "- Evaluate notebooks submitted by your peers using the provided rubric\n",
    "- Demonstrate proficiency in Data Science toolkit knowledge"
   ]
  },
  {
   "cell_type": "markdown",
   "id": "2fc98a19-b580-442d-9bb2-5bc3e61b07cb",
   "metadata": {},
   "source": [
    "Some of the commonly used libraries used by Data Scientists include:\n",
    "   1. SciPy\n",
    "   2. PyTorch\n",
    "   3. Pandas"
   ]
  },
  {
   "cell_type": "markdown",
   "id": "969d0527-47b6-40be-904f-a2568d41cf2f",
   "metadata": {},
   "source": [
    "Data Science Tools\n",
    "1. RStudio\n",
    "2. TensorFlow\n",
    "3. Apache Spark"
   ]
  },
  {
   "cell_type": "markdown",
   "id": "ce3894d3-f9d2-42c1-976a-bedbfa6da0cc",
   "metadata": {},
   "source": [
    "Below are a few examples of evaluating arithmetic expressions in Python\n"
   ]
  },
  {
   "cell_type": "code",
   "execution_count": 2,
   "id": "da70807e-a348-408b-8ffd-10240f0cd1c6",
   "metadata": {},
   "outputs": [
    {
     "data": {
      "text/plain": [
       "17"
      ]
     },
     "execution_count": 2,
     "metadata": {},
     "output_type": "execute_result"
    }
   ],
   "source": [
    "#This a simple arithmetic expression to mutiply then add integers\n",
    "(3*4)+5"
   ]
  },
  {
   "cell_type": "code",
   "execution_count": 16,
   "id": "812ab987-41d7-4580-a37c-827eee952332",
   "metadata": {},
   "outputs": [],
   "source": [
    "#This will convert 200 minutes to hours by diving by 60\n",
    "def converts_minutes_to_hours(hours):\n",
    "    min = 200\n",
    "    hour = 200/60\n",
    "    print(hour)\n",
    "    \n",
    "    \n"
   ]
  },
  {
   "cell_type": "code",
   "execution_count": 17,
   "id": "28646565-98eb-4cce-afee-65187ac7686a",
   "metadata": {},
   "outputs": [
    {
     "name": "stdout",
     "output_type": "stream",
     "text": [
      "3.3333333333333335\n"
     ]
    }
   ],
   "source": [
    "converts_minutes_to_hours(200)"
   ]
  },
  {
   "cell_type": "code",
   "execution_count": 18,
   "id": "cafe0401-2350-43e0-a6b9-8c40975ad1ec",
   "metadata": {},
   "outputs": [],
   "source": [
    "#This will convert 200 minutes to hours by diving by 60\n",
    "def converts_minutes_to_hours(hours):\n",
    "    min = 200\n",
    "    hour = x/60\n",
    "    print(hour)\n",
    "    \n",
    "    \n"
   ]
  },
  {
   "cell_type": "code",
   "execution_count": 20,
   "id": "e84fe2dc-4f37-49bc-94d2-5d866196c46f",
   "metadata": {},
   "outputs": [
    {
     "name": "stdout",
     "output_type": "stream",
     "text": [
      "3.3333333333333335\n"
     ]
    }
   ],
   "source": [
    "converts_minutes_to_hours(200)"
   ]
  },
  {
   "cell_type": "code",
   "execution_count": 23,
   "id": "f0cf449d-0093-4470-9bc1-f2ad4260d8be",
   "metadata": {},
   "outputs": [],
   "source": [
    "#This will convert 200 minutes to hours by diving by 60\n",
    "def converts_minutes_to_hours(x,y):\n",
    "    min = x\n",
    "    hour = x/y\n",
    "    print(hour)\n",
    "    \n",
    "    \n"
   ]
  },
  {
   "cell_type": "code",
   "execution_count": 24,
   "id": "41d7cf56-8e81-4739-be42-b737d684cce8",
   "metadata": {},
   "outputs": [
    {
     "name": "stdout",
     "output_type": "stream",
     "text": [
      "3.3333333333333335\n"
     ]
    }
   ],
   "source": [
    "converts_minutes_to_hours(200,60)"
   ]
  },
  {
   "cell_type": "markdown",
   "id": "366e01bc-633f-4776-97bc-879eac1f3301",
   "metadata": {},
   "source": [
    "Author\n",
    "\n",
    "Jalen Escoffrey"
   ]
  },
  {
   "cell_type": "code",
   "execution_count": null,
   "id": "47d1085f-4902-4e8c-a143-f7d3003ab9d3",
   "metadata": {},
   "outputs": [],
   "source": []
  }
 ],
 "metadata": {
  "kernelspec": {
   "display_name": "Python 3 (ipykernel)",
   "language": "python",
   "name": "python3"
  },
  "language_info": {
   "codemirror_mode": {
    "name": "ipython",
    "version": 3
   },
   "file_extension": ".py",
   "mimetype": "text/x-python",
   "name": "python",
   "nbconvert_exporter": "python",
   "pygments_lexer": "ipython3",
   "version": "3.9.13"
  }
 },
 "nbformat": 4,
 "nbformat_minor": 5
}
